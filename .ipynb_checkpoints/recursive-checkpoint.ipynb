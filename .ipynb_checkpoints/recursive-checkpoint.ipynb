{
 "cells": [
  {
   "cell_type": "code",
   "execution_count": 4,
   "metadata": {},
   "outputs": [
    {
     "name": "stdout",
     "output_type": "stream",
     "text": [
      " 1 10\n",
      "     2 10\n",
      "         3 10\n",
      "             4 10\n",
      "                 5 10\n",
      "                     6 10\n",
      "                         7 10\n",
      "                             8 10\n",
      "                                 9 10\n",
      "                                     10 10\n",
      "                                         11 10\n",
      "                                         0\n",
      "                                     10\n",
      "                                 19\n",
      "                             27\n",
      "                         34\n",
      "                     40\n",
      "                 45\n",
      "             49\n",
      "         52\n",
      "     54\n",
      " 55\n"
     ]
    },
    {
     "data": {
      "text/plain": [
       "55"
      ]
     },
     "execution_count": 4,
     "metadata": {},
     "output_type": "execute_result"
    }
   ],
   "source": [
    "def pyramid_sum(lower, upper, margin =0):\n",
    "    blanks = \" \"*margin\n",
    "    print(blanks, lower, upper)\n",
    "    if lower > upper:\n",
    "        print (blanks, 0)\n",
    "        return 0\n",
    "    else:\n",
    "        result= lower + pyramid_sum(lower +1, upper, margin + 4)\n",
    "        print (blanks, result)\n",
    "        return result\n",
    "pyramid_sum(1,10)"
   ]
  },
  {
   "cell_type": "code",
   "execution_count": null,
   "metadata": {},
   "outputs": [],
   "source": []
  }
 ],
 "metadata": {
  "kernelspec": {
   "display_name": "Python 3 (ipykernel)",
   "language": "python",
   "name": "python3"
  },
  "language_info": {
   "codemirror_mode": {
    "name": "ipython",
    "version": 3
   },
   "file_extension": ".py",
   "mimetype": "text/x-python",
   "name": "python",
   "nbconvert_exporter": "python",
   "pygments_lexer": "ipython3",
   "version": "3.10.6"
  },
  "vscode": {
   "interpreter": {
    "hash": "916dbcbb3f70747c44a77c7bcd40155683ae19c65e1c03b4aa3499c5328201f1"
   }
  }
 },
 "nbformat": 4,
 "nbformat_minor": 2
}
